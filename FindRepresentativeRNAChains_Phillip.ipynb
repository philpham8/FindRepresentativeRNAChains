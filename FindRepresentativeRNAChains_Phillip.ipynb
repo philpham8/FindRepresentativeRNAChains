{
  "nbformat": 4,
  "nbformat_minor": 0,
  "metadata": {
    "colab": {
      "name": "FindRepresentativeRNAChains_Phillip.ipynb",
      "provenance": [],
      "toc_visible": true,
      "authorship_tag": "ABX9TyMFMroX0JL5sUuelLqDg37r",
      "include_colab_link": true
    },
    "kernelspec": {
      "display_name": "Python 3",
      "name": "python3"
    },
    "language_info": {
      "name": "python"
    }
  },
  "cells": [
    {
      "cell_type": "markdown",
      "metadata": {
        "id": "view-in-github",
        "colab_type": "text"
      },
      "source": [
        "<a href=\"https://colab.research.google.com/github/philpham8/FindRepresentativeRNAChains/blob/main/FindRepresentativeRNAChains_Phillip.ipynb\" target=\"_parent\"><img src=\"https://colab.research.google.com/assets/colab-badge.svg\" alt=\"Open In Colab\"/></a>"
      ]
    },
    {
      "cell_type": "code",
      "metadata": {
        "id": "9-yPDMUPS4MK"
      },
      "source": [
        "import requests\n",
        "import pandas as pd\n",
        "\n",
        "def json_from_url(url):\n",
        "  response = requests.get(url, timeout=5)\n",
        "\n",
        "  if response.status_code == requests.codes.ok: return response.json()\n",
        "  else: return\n",
        "\n",
        "# Fetch pubmed on requested PDB entry\n",
        "def get_pdb_pubmed(pdb_id):\n",
        "  request_url = \"https://data.rcsb.org/rest/v1/core/pubmed\"\n",
        "  return json_from_url(request_url + '/' + pdb_id)\n",
        "\n",
        "# Fetch information on requested PDB entry\n",
        "def get_pdb_entry(pdb_id):\n",
        "  request_url = \"https://data.rcsb.org/rest/v1/core/entry\"\n",
        "  return json_from_url(request_url + '/' + pdb_id)\n",
        "\n",
        "# Fetch information on requested PDB entity/chain (e.g. individual RNA)\n",
        "def get_pdb_entity(pdb_id, chain_id):\n",
        "  request_url = \"https://data.rcsb.org/rest/v1/core/polymer_entity\"\n",
        "  return json_from_url(request_url + '/' + pdb_id + '/' + chain_id)\n",
        "\n",
        "# Fetch abstract title from pubmed\n",
        "def pdb_id_contains_excluded_words(pdb_id, excluded_words):\n",
        "    pubmed_json = get_pdb_pubmed(pdb_id)\n",
        "    if pubmed_json is not None and 'rcsb_pubmed_abstract_text' in pubmed_json:\n",
        "      abstract = pubmed_json['rcsb_pubmed_abstract_text'].lower()\n",
        "      return any(excluded_word.lower() in abstract for excluded_word in excluded_words)\n",
        "    else: return False\n",
        "\n",
        "# Checks that the polymer is of type RNA and DOES NOT contain DNA, oligosaccharide, or protein.\n",
        "def contains_rna_only(entry):\n",
        "    return entry['rcsb_entry_info']['polymer_composition'] == 'RNA' and entry['rcsb_entry_info']['na_polymer_entity_types'] == 'RNA (only)'\n",
        "\n",
        "# Checks if it contains any nonpolymer (either ligands or ions)\n",
        "# TODO: Ions should be permitted while ligands should not be. Temp action is excluding both.\n",
        "def contains_nonpolymer(entry):\n",
        "    return entry['rcsb_entry_info']['nonpolymer_entity_count'] > 0\n",
        "\n",
        "# Retrieve list of chain ids from entry.\n",
        "def get_list_of_chain_id(entry):\n",
        "    return entry['rcsb_entry_container_identifiers']['polymer_entity_ids']\n",
        "\n",
        "# Determine polymer length given entity.\n",
        "def get_polymer_length(entity):\n",
        "    return entity['entity_poly']['rcsb_sample_sequence_length']\n"
      ],
      "execution_count": 91,
      "outputs": []
    },
    {
      "cell_type": "markdown",
      "metadata": {
        "id": "EdYRcF4ULAe1"
      },
      "source": [
        "**Run following cell and input direct URL to CSV found on BGSU RNA**"
      ]
    },
    {
      "cell_type": "code",
      "metadata": {
        "colab": {
          "base_uri": "https://localhost:8080/"
        },
        "id": "wBM2Sw4uEfZT",
        "outputId": "ceb1f00b-015b-4c54-89a9-c590566b998e"
      },
      "source": [
        "# Ask URL to CSV and then create dataframe from .csv\n",
        "# E.g. http://rna.bgsu.edu/rna3dhub/nrlist/download/3.180/3.0A/csv\n",
        "csv_url = input('Please provide direct URL to desired CSV file found on rna.bgsu.edu: ')\n",
        "data = pd.read_csv(csv_url, usecols=[1])\n",
        "\n",
        "# Ask user for maximum nucleotides\n",
        "nt_max_cutoff = int(input(\"What should the maximium number (non-inclusive) of ribonucleotides be? \"))\n",
        "\n",
        "# Ask user for minimum nucleotides\n",
        "nt_min_cutoff = int(input(\"What should the minimum number (non-inclusive) of ribonucleotides be? \"))\n",
        "\n",
        "# Ask user for minimum nucleotides\n",
        "excluded_words = input(\"List any words that you want to blacklist in the PubMed abstract. Separate words by space: \").split()"
      ],
      "execution_count": 101,
      "outputs": [
        {
          "output_type": "stream",
          "text": [
            "Please provide direct URL to desired CSV file found on rna.bgsu.edu: /content/nrlist_3.179_3.0A.csv\n",
            "What should the maximium number (non-inclusive) of ribonucleotides be? 400\n",
            "What should the minimum number (non-inclusive) of ribonucleotides be? 100\n",
            "List any words that you want to blacklist in the PubMed abstract. Separate words by space: tRNA\n"
          ],
          "name": "stdout"
        }
      ]
    },
    {
      "cell_type": "markdown",
      "metadata": {
        "id": "rLKYoYH05BZ3"
      },
      "source": [
        "**Filter all RNAs based on max/min nt cutoffs. Includes nonpolymers (ions/ligands). Excludes carbohydrates and \n",
        "proteins.**"
      ]
    },
    {
      "cell_type": "code",
      "metadata": {
        "colab": {
          "base_uri": "https://localhost:8080/"
        },
        "id": "F2CrK3x25Ac3",
        "outputId": "53d80edd-0260-4b39-bcaf-5173193e6251"
      },
      "source": [
        "# Running list of chains that meet criteria (no proteins, no carbohydrates, no ligand/ion/water, and less than nt_cutoff)\n",
        "matching_chains = []\n",
        "\n",
        "# Grab second column (the 'representative' column) from .csv and grab the PDB id.\n",
        "# TODO: Use regex instead\n",
        "for i, row in data.iterrows():\n",
        "  pdb_id = row[0].split('|')[0] \n",
        "\n",
        "  # Immediately skip entry if it contains the word tRNA or other excluded words\n",
        "  entry = get_pdb_entry(pdb_id) \n",
        "\n",
        "  ## Checks if RNA and exclude any nonpolymers. If true, fetch all chains and check if it is less than nt_cutoff.\n",
        "  ## if contains_rna_only(entry) and not contains_nonpolymer(entry):\n",
        "  \n",
        "  # Checks if RNA. Also includes all nonpolymers.\n",
        "  if contains_rna_only(entry):\n",
        "    if pdb_id_contains_excluded_words(pdb_id, excluded_words): \n",
        "      print('Skipping PDA ID because it contains exclusion word: ', pdb_id)\n",
        "      continue\n",
        "    list_of_chain_id = get_list_of_chain_id(entry)\n",
        "\n",
        "    for chain_id in list_of_chain_id:\n",
        "      entity = get_pdb_entity(pdb_id, chain_id)\n",
        "      if nt_min_cutoff < get_polymer_length(entity) < nt_max_cutoff:\n",
        "        matching_chains.append(pdb_id + '|' + chain_id)\n",
        "\n",
        "# Print number of RNAs found\n",
        "print()\n",
        "print('Found ', len(matching_chains), ' molecules:')\n",
        "print(matching_chains)"
      ],
      "execution_count": 102,
      "outputs": [
        {
          "output_type": "stream",
          "text": [
            "Skipping PDA ID because it contains exclusion word:  5L4O\n",
            "Skipping PDA ID because it contains exclusion word:  4P5J\n",
            "Skipping PDA ID because it contains exclusion word:  4JRC\n",
            "Skipping PDA ID because it contains exclusion word:  3RG5\n",
            "Skipping PDA ID because it contains exclusion word:  5HNJ\n",
            "Skipping PDA ID because it contains exclusion word:  3BNR\n",
            "Skipping PDA ID because it contains exclusion word:  3BNT\n",
            "Skipping PDA ID because it contains exclusion word:  6UGI\n",
            "Skipping PDA ID because it contains exclusion word:  4U35\n",
            "Skipping PDA ID because it contains exclusion word:  2V6W\n",
            "Skipping PDA ID because it contains exclusion word:  1YFG\n",
            "Skipping PDA ID because it contains exclusion word:  4RZD\n",
            "Skipping PDA ID because it contains exclusion word:  6CU1\n",
            "Skipping PDA ID because it contains exclusion word:  4JF2\n",
            "Skipping PDA ID because it contains exclusion word:  6PMO\n",
            "Skipping PDA ID because it contains exclusion word:  2V7R\n",
            "Skipping PDA ID because it contains exclusion word:  435D\n",
            "Skipping PDA ID because it contains exclusion word:  464D\n",
            "Skipping PDA ID because it contains exclusion word:  2VAL\n",
            "Skipping PDA ID because it contains exclusion word:  6PMO\n",
            "Skipping PDA ID because it contains exclusion word:  2VUQ\n",
            "Skipping PDA ID because it contains exclusion word:  6UFG\n",
            "Skipping PDA ID because it contains exclusion word:  6UFG\n",
            "Skipping PDA ID because it contains exclusion word:  2XSL\n",
            "Skipping PDA ID because it contains exclusion word:  3CJZ\n",
            "Skipping PDA ID because it contains exclusion word:  6UFM\n",
            "Skipping PDA ID because it contains exclusion word:  3GVN\n",
            "Skipping PDA ID because it contains exclusion word:  4U34\n",
            "Skipping PDA ID because it contains exclusion word:  6UFM\n",
            "Skipping PDA ID because it contains exclusion word:  3BNN\n",
            "Skipping PDA ID because it contains exclusion word:  6UGG\n",
            "Skipping PDA ID because it contains exclusion word:  2W89\n",
            "Skipping PDA ID because it contains exclusion word:  2ZY6\n",
            "\n",
            "Found  17  molecules:\n",
            "['3DIL|1', '4WFL|1', '3SUX|1', '4Y1M|1', '1U9S|1', '6WJR|1', '4FAR|1', '6N5P|1', '6CK5|1', '3D0U|1', '6CB3|1', '4QLM|1', '6OL3|1', '6DLR|1', '6DME|1', '4P95|1', '3PDR|1']\n"
          ],
          "name": "stdout"
        }
      ]
    },
    {
      "cell_type": "markdown",
      "metadata": {
        "id": "BwkkwcptK0Hv"
      },
      "source": [
        "**Helper function to determine list of ligands present in BGSU dataset:**"
      ]
    },
    {
      "cell_type": "code",
      "metadata": {
        "colab": {
          "base_uri": "https://localhost:8080/"
        },
        "id": "v_ehHAcm4gO0",
        "outputId": "7a41f0fd-644a-4bc0-921a-0c9de9c3c271"
      },
      "source": [
        "# If entry contains nonpolymer AND a list of bound components is given, display it.\n",
        "# Notice: Some entries have nonpolymer entities but fail to include a list.\n",
        "def add_nonpolymers(entry):\n",
        "    if contains_nonpolymer(entry) and 'nonpolymer_bound_components' in entry['rcsb_entry_info']:\n",
        "        nonpolymers = entry['rcsb_entry_info']['nonpolymer_bound_components']\n",
        "\n",
        "        for nonpolymer in nonpolymers:\n",
        "          if nonpolymer not in list_of_nonpolymers:\n",
        "            list_of_nonpolymers.append(nonpolymer)\n",
        "\n",
        "list_of_nonpolymers = []\n",
        "\n",
        "# Grab second column (the 'representative' column) from .csv and grab the PDB id.\n",
        "# TODO: Use regex instead\n",
        "for i, row in data.iterrows():\n",
        "  pdb_id = row[0].split('|')[0] \n",
        "  entry = get_pdb_entry(pdb_id) \n",
        "\n",
        "  add_nonpolymers(entry)\n",
        "\n",
        "# Print number of RNAs found\n",
        "print()\n",
        "print('Found ', len(list_of_nonpolymers), ' nonpolymers')\n",
        "print(list_of_nonpolymers)"
      ],
      "execution_count": null,
      "outputs": [
        {
          "output_type": "stream",
          "text": [
            "\n",
            "Found  115  nonpolymers\n",
            "['ATP', 'K', 'MG', 'ZN', 'SF4', '5GP', 'FME', 'GNP', 'GTP', 'FE2', 'OH', 'TAC', 'MN', 'GCP', 'ARG', 'NA', 'CA', 'HIS', 'M5Z', 'NAD', 'F86', 'POP', 'PLR', 'SAH', 'ANP', 'IDQ', 'NAG', 'SO4', 'LYS', 'DUT', 'UDP', 'ADP', 'OHX', 'CD', 'MLI', 'SR', 'MET', 'U6A', 'BA', 'ALF', 'NI', 'GDP', 'AMZ', 'CAC', 'CS', '2KH', 'BEF', 'PYI', 'FMT', 'CH1', 'YQM', 'PAR', 'SPE', 'B12', 'MMC', 'A', 'RQA', 'AU', 'DCT', 'CYS', 'APC', 'CDP', 'MUB', 'IUM', 'ACT', '0G6', 'CCC', 'G5J', 'DCP', 'FES', 'BTN', 'AG', 'M4H', 'IPA', 'FOU', 'HG', 'PPV', 'TPP', 'PO4', 'DTP', 'ACP', 'BR', 'NCO', 'CO', 'IR', 'YMP', 'M7G', 'LI', 'T1C', 'PRP', 'A23', 'MGF', 'GH3', 'GLN', 'CSG', 'G7M', '2AD', 'NVA', 'NPM', 'GE6', 'UTP', 'G88', 'S9L', 'TSB', 'AMP', 'GZG', 'CTC', 'GNG', 'MGT', 'G4P', 'TL', 'U3H', '4PQ', 'MES', 'SAM']\n"
          ],
          "name": "stdout"
        }
      ]
    }
  ]
}