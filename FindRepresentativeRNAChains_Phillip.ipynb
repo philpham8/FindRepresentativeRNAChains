{
  "nbformat": 4,
  "nbformat_minor": 0,
  "metadata": {
    "colab": {
      "name": "FindRepresentativeRNAChains_Phillip.ipynb",
      "provenance": [],
      "authorship_tag": "ABX9TyPOZGcuNoNqRHdMgwm3AS+v",
      "include_colab_link": true
    },
    "kernelspec": {
      "display_name": "Python 3",
      "name": "python3"
    },
    "language_info": {
      "name": "python"
    }
  },
  "cells": [
    {
      "cell_type": "markdown",
      "metadata": {
        "id": "view-in-github",
        "colab_type": "text"
      },
      "source": [
        "<a href=\"https://colab.research.google.com/github/philpham8/FindRepresentativeRNAChains/blob/main/FindRepresentativeRNAChains_Phillip.ipynb\" target=\"_parent\"><img src=\"https://colab.research.google.com/assets/colab-badge.svg\" alt=\"Open In Colab\"/></a>"
      ]
    },
    {
      "cell_type": "code",
      "metadata": {
        "id": "9-yPDMUPS4MK"
      },
      "source": [
        "import requests\n",
        "import pandas as pd\n",
        "\n",
        "def json_from_url(url):\n",
        "  try:\n",
        "    response = requests.get(url, timeout=5)\n",
        "    response.raise_for_status()\n",
        "    return response.json()\n",
        "\n",
        "  except requests.exceptions.RequestException as e: \n",
        "    raise SystemExit(e)\n",
        "\n",
        "# Fetch information on requested PDB entry\n",
        "def get_pdb_entry(pdb_id):\n",
        "  request_url = \"https://data.rcsb.org/rest/v1/core/entry\"\n",
        "  return json_from_url(request_url + '/' + pdb_id)\n",
        "\n",
        "# Fetch information on requested PDB entity/chain (e.g. individual RNA)\n",
        "def get_pdb_entity(pdb_id, chain_id):\n",
        "  request_url = \"https://data.rcsb.org/rest/v1/core/polymer_entity\"\n",
        "  return json_from_url(request_url + '/' + pdb_id + '/' + chain_id)\n",
        "\n",
        "# Checks that the polymer is of type RNA and DOES NOT contain DNA, oligosaccharide, or protein.\n",
        "def contains_rna_only(entry):\n",
        "    return entry['rcsb_entry_info']['polymer_composition'] == 'RNA' and entry['rcsb_entry_info']['na_polymer_entity_types'] == 'RNA (only)'\n",
        "\n",
        "# Checks if it contains any nonpolymer (either ligands or ions)\n",
        "# TODO: Ions should be permitted while ligands should not be. Temp action is excluding both.\n",
        "def contains_nonpolymer(entry):\n",
        "    return entry['rcsb_entry_info']['nonpolymer_entity_count'] > 0\n",
        "\n",
        "# Retrieve list of chain ids from entry.\n",
        "def get_list_of_chain_id(entry):\n",
        "    return entry['rcsb_entry_container_identifiers']['polymer_entity_ids']\n",
        "\n",
        "# Determine polymer length given entity.\n",
        "def get_polymer_length(entity):\n",
        "    return entity['entity_poly']['rcsb_sample_sequence_length']\n"
      ],
      "execution_count": 1,
      "outputs": []
    },
    {
      "cell_type": "markdown",
      "metadata": {
        "id": "EdYRcF4ULAe1"
      },
      "source": [
        "**Run following cell and input direct URL to CSV found on BGSU RNA**"
      ]
    },
    {
      "cell_type": "code",
      "metadata": {
        "colab": {
          "base_uri": "https://localhost:8080/"
        },
        "id": "wBM2Sw4uEfZT",
        "outputId": "24a69a04-d62e-419a-b9ec-341c5b217a70"
      },
      "source": [
        "# Ask URL to CSV and then create dataframe from .csv\n",
        "# E.g. http://rna.bgsu.edu/rna3dhub/nrlist/download/3.179/3.0A/csv\n",
        "url = input('Please provide direct URL to desired CSV file found on rna.bgsu.edu: ')\n",
        "data = pd.read_csv(url, usecols=[1])\n",
        "\n",
        "# Ask user for maximum nucleotides\n",
        "nt_cutoff = int(input(\"What should the maximium number (non-inclusive) of ribonucleotides be? \"))\n",
        "\n",
        "# Running list of chains that meet criteria (no proteins, no carbohydrates, no ligand/ion/water, and less than nt_cutoff)\n",
        "matching_chains = []\n",
        "\n",
        "# Grab second column (the 'representative' column) from .csv and grab the PDB id.\n",
        "# TODO: Use regex instead\n",
        "for i, row in data.iterrows():\n",
        "  pdb_id = row[0].split('|')[0] \n",
        "  entry = get_pdb_entry(pdb_id) \n",
        "\n",
        "  # Checks if RNA and exclude any nonpolymers. If true, fetch all chains and check if it is less than nt_cutoff.\n",
        "  if contains_rna_only(entry) and not contains_nonpolymer(entry):\n",
        "\n",
        "    list_of_chain_id = get_list_of_chain_id(entry)\n",
        "\n",
        "    for chain_id in list_of_chain_id:\n",
        "      entity = get_pdb_entity(pdb_id, chain_id)\n",
        "      if get_polymer_length(entity) < nt_cutoff:\n",
        "        matching_chains.append(pdb_id + '|' + chain_id)\n",
        "\n",
        "# Print number of RNAs found\n",
        "print()\n",
        "print('Found ' + str(len(matching_chains)) + ' molecules:')\n",
        "print(matching_chains)"
      ],
      "execution_count": 3,
      "outputs": [
        {
          "output_type": "stream",
          "text": [
            "Please provide direct URL to desired CSV file found on rna.bgsu.edu: http://rna.bgsu.edu/rna3dhub/nrlist/download/3.179/3.0A/csv\n",
            "What should the maximium number (non-inclusive) of ribonucleotides be? 400\n",
            "\n",
            "Found 88 molecules:\n",
            "['205D|1', '1I9X|1', '4NFQ|1', '5UZ6|1', '5UZ6|2', '5NXT|1', '3SZX|1', '6L0Y|1', '4U35|1', '4U35|2', '2V6W|1', '2V6W|2', '5C5W|1', '438D|1', '353D|1', '353D|2', '4E59|1', '1CSL|1', '1CSL|2', '1YFG|1', '3P22|1', '3P22|2', '5G4T|1', '5G4T|2', '2G92|1', '4RC0|1', '1ZX7|1', '1ZX7|2', '472D|1', '472D|2', '4IQS|1', '1KH6|1', '2V7R|1', '2V7R|2', '1SDR|1', '1SDR|2', '1DQH|1', '1DQH|2', '1QBP|1', '6BGB|1', '1KFO|1', '422D|1', '1RNA|1', '5LQO|1', '2JLT|1', '2JLT|2', '1KD5|1', '2A0P|1', '6E7L|1', '1SA9|1', '280D|1', '3GM7|1', '2VUQ|1', '2VUQ|2', '5V1K|1', '2XSL|1', '2XSL|2', '4E6B|1', '4E6B|2', '4JRT|1', '4JRT|2', '402D|1', '3CJZ|1', '4E6B|1', '4E6B|2', '406D|1', '4P3U|1', '3HGA|1', '4U34|1', '4U34|2', '377D|1', '361D|1', '361D|1', '3P4D|1', '255D|1', '3BNN|1', '6UGG|1', '4RBZ|1', '4XW1|1', '433D|1', '413D|1', '409D|1', '1SAQ|1', '4P3U|1', '4P3T|1', '4E5C|1', '6Q8V|1', '2Q1O|1']\n"
          ],
          "name": "stdout"
        }
      ]
    },
    {
      "cell_type": "markdown",
      "metadata": {
        "id": "BwkkwcptK0Hv"
      },
      "source": [
        "**Some helper Functions that is not needed at this time:**"
      ]
    },
    {
      "cell_type": "code",
      "metadata": {
        "id": "gHrq2D6KHTPA"
      },
      "source": [
        "def contains_dna(entry):\n",
        "    return entry['rcsb_entry_info']['polymer_entity_count_dna'] > 0\n",
        "def contains_protein(entry):\n",
        "    return entry['rcsb_entry_info']['polymer_entity_count_protein'] > 0\n",
        "def contains_carbohydrate(entry):\n",
        "    return entry['rcsb_entry_info']['branched_entity_count'] > 0\n",
        "\n",
        "# If entry contains nonpolymer AND a list of bound components is given, display it.\n",
        "# Notice: Some entries have nonpolymer entities but fail to include a list.\n",
        "def show_nonpolymer(entry):\n",
        "    if contains_nonpolymer(entry) and 'nonpolymer_bound_components' in entry['rcsb_entry_info']:\n",
        "        print(entry['rcsb_entry_info']['nonpolymer_bound_components'])"
      ],
      "execution_count": null,
      "outputs": []
    }
  ]
}