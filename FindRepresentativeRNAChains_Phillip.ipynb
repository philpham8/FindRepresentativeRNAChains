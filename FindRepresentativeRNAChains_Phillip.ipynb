{
  "nbformat": 4,
  "nbformat_minor": 0,
  "metadata": {
    "colab": {
      "name": "FindRepresentativeRNAChains_Phillip.ipynb",
      "provenance": [],
      "collapsed_sections": [],
      "toc_visible": true,
      "authorship_tag": "ABX9TyPty7HWWfPYGwmLSIKQYfq/",
      "include_colab_link": true
    },
    "kernelspec": {
      "display_name": "Python 3",
      "name": "python3"
    },
    "language_info": {
      "name": "python"
    }
  },
  "cells": [
    {
      "cell_type": "markdown",
      "metadata": {
        "id": "view-in-github",
        "colab_type": "text"
      },
      "source": [
        "<a href=\"https://colab.research.google.com/github/philpham8/FindRepresentativeRNAChains/blob/main/FindRepresentativeRNAChains_Phillip.ipynb\" target=\"_parent\"><img src=\"https://colab.research.google.com/assets/colab-badge.svg\" alt=\"Open In Colab\"/></a>"
      ]
    },
    {
      "cell_type": "markdown",
      "metadata": {
        "id": "ekKURWsfbFUL"
      },
      "source": [
        "Developed by Phillip Pham on 05/2021\n",
        "\n",
        "Search non-redundant RNAs on Protein Data Base using these criteria:\n",
        "\n",
        "*   Variable length of nucleotides (min and max cutoffs)\n",
        "*   No branched polymers (carbohydrates or oligosaccharide)\n",
        "*   Resolution cutoff in Angstroms (as determined by URL on rna.BGSU.edu\n",
        "\n",
        "Also contains the function to lookup ligands and generate a XLSX spreadsheet with information on chain length, title, and ligand nonpolymers (intentionally excluding ions)."
      ]
    },
    {
      "cell_type": "code",
      "metadata": {
        "id": "9-yPDMUPS4MK"
      },
      "source": [
        "import requests\n",
        "import pandas as pd\n",
        "\n",
        "explicit_ions = ['K', 'MG', 'NA', 'SR', 'BA', 'MN', 'CD', 'TL', 'SO4', 'IRI', 'ACT']\n",
        "\n",
        "def json_from_url(url):\n",
        "  response = requests.get(url, timeout=5)\n",
        "\n",
        "  if response.status_code == requests.codes.ok: return response.json()\n",
        "  else: return\n",
        "\n",
        "# Fetch PubMed data with requested PDB ID on PDB.\n",
        "def get_pdb_pubmed(pdb_id):\n",
        "  request_url = \"https://data.rcsb.org/rest/v1/core/pubmed\"\n",
        "  return json_from_url(request_url + '/' + pdb_id)\n",
        "\n",
        "# Fetch Nonpolymer data with requested Nonpolymer ID on PDB.\n",
        "def get_pdb_nonpolymer(pdb_id, nonpolymer_id):\n",
        "  request_url = 'https://data.rcsb.org/rest/v1/core/nonpolymer_entity'\n",
        "  return json_from_url(request_url + '/' + pdb_id + '/' + nonpolymer_id)\n",
        "\n",
        "# Fetch Chemical Composition data with requested Comp ID on PDB.\n",
        "def get_pdb_chemcomp(comp_id):\n",
        "  request_url = 'https://data.rcsb.org/rest/v1/core/chemcomp'\n",
        "  return json_from_url(request_url + '/' + comp_id)\n",
        "\n",
        "# Fetch information on requested PDB entry\n",
        "def get_pdb_entry(pdb_id):\n",
        "  request_url = \"https://data.rcsb.org/rest/v1/core/entry\"\n",
        "  return json_from_url(request_url + '/' + pdb_id)\n",
        "\n",
        "# Fetch information on requested PDB entity/chain (e.g. individual RNA)\n",
        "def get_pdb_entity(pdb_id, chain_id):\n",
        "  request_url = \"https://data.rcsb.org/rest/v1/core/polymer_entity\"\n",
        "  return json_from_url(request_url + '/' + pdb_id + '/' + chain_id)\n",
        "\n",
        "# Fetch abstract title from pubmed\n",
        "def pdb_id_contains_excluded_words(pdb_id, excluded_words):\n",
        "    pubmed_json = get_pdb_pubmed(pdb_id)\n",
        "    if pubmed_json is not None and 'rcsb_pubmed_abstract_text' in pubmed_json:\n",
        "      abstract = pubmed_json['rcsb_pubmed_abstract_text'].lower()\n",
        "      return any(excluded_word.lower() in abstract for excluded_word in excluded_words)\n",
        "    else: return False\n",
        "\n",
        "# Checks that the polymer is of type RNA and DOES NOT contain DNA, oligosaccharide, or protein.\n",
        "def contains_rna_only(entry):\n",
        "    return entry['rcsb_entry_info']['polymer_composition'] == 'RNA' and entry['rcsb_entry_info']['na_polymer_entity_types'] == 'RNA (only)'\n",
        "\n",
        "# Checks if it contains any nonpolymer (either ligands or ions)\n",
        "# TODO: Ions should be permitted while ligands should not be. Temp action is excluding both.\n",
        "def contains_nonpolymer(entry):\n",
        "    return entry['rcsb_entry_info']['nonpolymer_entity_count'] > 0\n",
        "\n",
        "# Retrieve chemical name from CompID (e.g water)\n",
        "def get_name_from_comp_id(comp_id):\n",
        "    return get_pdb_chemcomp(comp_id)['chem_comp']['name']\n",
        "\n",
        "# Retrieve list of Comp ID from chain (e.g OHO)\n",
        "def comp_id_from_pdb_and_nonpolymer_id(pdb_id, nonpolymer_id):\n",
        "    return get_pdb_nonpolymer(pdb_id, nonpolymer_id)['pdbx_entity_nonpoly']['comp_id']\n",
        "\n",
        "# Retrieve chemical name from CompID (e.g water)\n",
        "def comp_name_from_pdb_and_nonpolymer_id(pdb_id, nonpolymer_id):\n",
        "    return get_pdb_nonpolymer(pdb_id, nonpolymer_id)['pdbx_entity_nonpoly']['name']\n",
        "\n",
        "# Retrieve list of chain ids from entry.\n",
        "def get_list_of_chain_id(entry):\n",
        "    return entry['rcsb_entry_container_identifiers']['polymer_entity_ids']\n",
        "\n",
        "# Retrieve list of chain ids from entry.\n",
        "def get_entry_title(entry):\n",
        "    return entry['struct']['title']\n",
        "\n",
        "# Retrieve list of nonpolymer ids from entry.\n",
        "def get_list_of_nonpolymer_id(entry):\n",
        "    entry_identifiers = entry['rcsb_entry_container_identifiers']\n",
        "    if 'non_polymer_entity_ids' in entry_identifiers: return entry_identifiers['non_polymer_entity_ids']\n",
        "    else: return\n",
        "\n",
        "# Exclude ions and return list of ligands:\n",
        "def nonpolymers_with_no_ions(list_of_nonpolymer_id):\n",
        "    list_of_nonpolymers = []\n",
        "    for nonpolymer_id in list_of_nonpolymer_id:\n",
        "          comp_id = comp_id_from_pdb_and_nonpolymer_id(pdb_id, nonpolymer_id)\n",
        "\n",
        "          if comp_id not in list_of_nonpolymers and comp_id not in explicit_ions:\n",
        "            list_of_nonpolymers.append(comp_id)\n",
        "    return list_of_nonpolymers\n",
        "\n",
        "# Determine polymer length given entity.\n",
        "def get_polymer_length(entity):\n",
        "    return entity['entity_poly']['rcsb_sample_sequence_length']"
      ],
      "execution_count": null,
      "outputs": []
    },
    {
      "cell_type": "markdown",
      "metadata": {
        "id": "EdYRcF4ULAe1"
      },
      "source": [
        "# Input direct URL (from BGSU), define nucleotides cutoffs, and specify exclusion words"
      ]
    },
    {
      "cell_type": "code",
      "metadata": {
        "colab": {
          "base_uri": "https://localhost:8080/"
        },
        "id": "wBM2Sw4uEfZT",
        "outputId": "acfe600c-0916-4eca-d830-38e4d8b0c58a"
      },
      "source": [
        "# Ask URL to CSV and then create dataframe from .csv\n",
        "# E.g. http://rna.bgsu.edu/rna3dhub/nrlist/download/3.180/3.0A/csv\n",
        "csv_url = input('Please provide direct URL to desired CSV file found on rna.bgsu.edu: ')\n",
        "data = pd.read_csv(csv_url, usecols=[1])"
      ],
      "execution_count": null,
      "outputs": [
        {
          "output_type": "stream",
          "text": [
            "Please provide direct URL to desired CSV file found on rna.bgsu.edu: http://rna.bgsu.edu/rna3dhub/nrlist/download/3.180/3.0A/csv\n",
            "What should the maximium number (non-inclusive) of ribonucleotides be? 400\n",
            "What should the minimum number (non-inclusive) of ribonucleotides be? 95\n",
            "List any words that you want to blacklist in the PubMed abstract. Separate words by space: tRNA\n"
          ],
          "name": "stdout"
        }
      ]
    },
    {
      "cell_type": "code",
      "metadata": {
        "colab": {
          "base_uri": "https://localhost:8080/"
        },
        "id": "3GMhBEYCnqgt",
        "outputId": "8a2d0bc2-a11d-4ad9-fb05-ced2b95e7f4b"
      },
      "source": [
        "# Ask user for maximum nucleotides\n",
        "nt_max_cutoff = int(input(\"What should the maximium number (non-inclusive) of ribonucleotides be? \"))\n",
        "\n",
        "# Ask user for minimum nucleotides\n",
        "nt_min_cutoff = int(input(\"What should the minimum number (non-inclusive) of ribonucleotides be? \"))\n",
        "\n",
        "# Ask user for if they would like to exclude any words from the PubMed abstract\n",
        "excluded_words = input(\"List any words that you want to blacklist in the PubMed abstract. Separate words by space: \").split()"
      ],
      "execution_count": null,
      "outputs": [
        {
          "output_type": "stream",
          "text": [
            "What should the maximium number (non-inclusive) of ribonucleotides be? 400\n",
            "What should the minimum number (non-inclusive) of ribonucleotides be? 50\n",
            "List any words that you want to blacklist in the PubMed abstract. Separate words by space: tRNA\n"
          ],
          "name": "stdout"
        }
      ]
    },
    {
      "cell_type": "markdown",
      "metadata": {
        "id": "UuW0TKebhfjc"
      },
      "source": [
        "# Extract PDB IDs from BGSU Spreadsheet"
      ]
    },
    {
      "cell_type": "code",
      "metadata": {
        "id": "NneZmoDx66OU"
      },
      "source": [
        "# Extract all PDB IDs of non-redundant RNAs from BGSU spreadsheet\n",
        "bgsu_pdb_ids = []\n",
        "\n",
        "for i, row in data.iterrows():\n",
        "  pdb_id = row[0].split('|')[0] \n",
        "  bgsu_pdb_ids.append(pdb_id)"
      ],
      "execution_count": null,
      "outputs": []
    },
    {
      "cell_type": "code",
      "metadata": {
        "id": "68Cd8d1J3jOL"
      },
      "source": [
        "def pdb_info_from_entry(entry):\n",
        "  # Check if of type RNA (no carbohydrate or protein) and if it is not excluded.\n",
        "  # Immediately skip entry if it contains the word tRNA or other excluded words\n",
        "  if contains_rna_only(entry) and not pdb_id_contains_excluded_words(pdb_id, excluded_words):\n",
        "    # Get list of Chain IDs for given PDB entry\n",
        "    list_of_chain_id = get_list_of_chain_id(entry)\n",
        "\n",
        "    # Loop through each chain ID to get length\n",
        "    for chain_id in list_of_chain_id:\n",
        "      entity = get_pdb_entity(pdb_id, chain_id)\n",
        "      length = get_polymer_length(entity)\n",
        "\n",
        "      # Checks if chain meets min/max threshold\n",
        "      if nt_min_cutoff < length < nt_max_cutoff:\n",
        "\n",
        "        # Fetch list of all nonpolymer IDs\n",
        "        list_of_nonpolymer_id = get_list_of_nonpolymer_id(entry)\n",
        "\n",
        "        if list_of_nonpolymer_id is not None: \n",
        "          # Remove instances of ions. We want only the ligands\n",
        "          ligands = nonpolymers_with_no_ions(list_of_nonpolymer_id)\n",
        "          if not ligands: ligands = ['Apo'] # If no ligands found, we will call these 'Apo'\n",
        "        else: \n",
        "          ligands = ['None'] # If no ions or ligands, we will call these 'None'\n",
        "\n",
        "        # Make list of requested info (pdb_id, chain_id, length, and list_of_nonpolymers)\n",
        "        list_of_nonpolymers = [pdb_id, chain_id, get_entry_title(entry), length, ligands]\n",
        "        return list_of_nonpolymers\n",
        "\n",
        "  else:\n",
        "      return"
      ],
      "execution_count": null,
      "outputs": []
    },
    {
      "cell_type": "markdown",
      "metadata": {
        "id": "rLKYoYH05BZ3"
      },
      "source": [
        "# Filter all RNAs based on max/min nt cutoffs. \n",
        "Includes nonpolymers (ions/ligands). Excludes carbohydrates and proteins."
      ]
    },
    {
      "cell_type": "code",
      "metadata": {
        "colab": {
          "base_uri": "https://localhost:8080/",
          "height": 476
        },
        "id": "F2CrK3x25Ac3",
        "outputId": "2f35d739-d184-4f59-b856-c0af1d39578e"
      },
      "source": [
        "# Whitelist any PDB IDs that does not meet criteria or isn't found in BGSU spreadsheet.\n",
        "# E.g. 4KQY 4QK8 5V3I 4P8Z 1GID\n",
        "whitelist_pdb_ids = input(\"Please list any additional PDB IDs for which you want to include. Separate words by space: \").split()\n",
        "matched_pdb_ids = bgsu_pdb_ids + whitelist_pdb_ids\n",
        "\n",
        "benchmark_pdb_entries = []\n",
        "\n",
        "# Loop through desired PDB IDs and if it meets criteria, add it.\n",
        "for pdb_id in matched_pdb_ids:\n",
        "  entry = get_pdb_entry(pdb_id) \n",
        "\n",
        "  # Retrieve all info needed from PDB (including name, description length, ligand)\n",
        "  pdb_info = pdb_info_from_entry(entry)\n",
        "\n",
        "  if pdb_info is not None: benchmark_pdb_entries.append(pdb_info)\n",
        "\n",
        "# Print number of RNAs found\n",
        "print()\n",
        "print('Found ', len(benchmark_pdb_entries), ' molecules:')\n",
        "\n",
        "# Take list and create DataFrame\n",
        "df = pd.DataFrame(benchmark_pdb_entries, columns = [\"PDB ID\", \"Chain_ID\", \"Description\", \"Length (bp)\", \"Ligand (non-ion)\"])\n",
        "df"
      ],
      "execution_count": null,
      "outputs": [
        {
          "output_type": "stream",
          "text": [
            "Please list any additional PDB IDs for which you want to include. Separate words by space: 4KQY 4QK8 5V3I 4P8Z 1GID\n",
            "\n",
            "Found  87  molecules:\n"
          ],
          "name": "stdout"
        },
        {
          "output_type": "execute_result",
          "data": {
            "text/html": [
              "<div>\n",
              "<style scoped>\n",
              "    .dataframe tbody tr th:only-of-type {\n",
              "        vertical-align: middle;\n",
              "    }\n",
              "\n",
              "    .dataframe tbody tr th {\n",
              "        vertical-align: top;\n",
              "    }\n",
              "\n",
              "    .dataframe thead th {\n",
              "        text-align: right;\n",
              "    }\n",
              "</style>\n",
              "<table border=\"1\" class=\"dataframe\">\n",
              "  <thead>\n",
              "    <tr style=\"text-align: right;\">\n",
              "      <th></th>\n",
              "      <th>PDB ID</th>\n",
              "      <th>Chain_ID</th>\n",
              "      <th>Description</th>\n",
              "      <th>Length (bp)</th>\n",
              "      <th>Ligand (non-ion)</th>\n",
              "    </tr>\n",
              "  </thead>\n",
              "  <tbody>\n",
              "    <tr>\n",
              "      <th>0</th>\n",
              "      <td>7JNH</td>\n",
              "      <td>2</td>\n",
              "      <td>Crystal structure of a double-ENE RNA stabilit...</td>\n",
              "      <td>86</td>\n",
              "      <td>[NCO, SPD]</td>\n",
              "    </tr>\n",
              "    <tr>\n",
              "      <th>1</th>\n",
              "      <td>6PRV</td>\n",
              "      <td>1</td>\n",
              "      <td>58nt RNA L11-binding domain from E. coli 23S rRNA</td>\n",
              "      <td>58</td>\n",
              "      <td>[Apo]</td>\n",
              "    </tr>\n",
              "    <tr>\n",
              "      <th>2</th>\n",
              "      <td>4FEN</td>\n",
              "      <td>1</td>\n",
              "      <td>Crystal structure of the A24U/U25A/A46G mutant...</td>\n",
              "      <td>67</td>\n",
              "      <td>[HPA, NCO]</td>\n",
              "    </tr>\n",
              "    <tr>\n",
              "      <th>3</th>\n",
              "      <td>6TFF</td>\n",
              "      <td>1</td>\n",
              "      <td>Crystal structure of the ADP-binding domain of...</td>\n",
              "      <td>52</td>\n",
              "      <td>[BR, NAD]</td>\n",
              "    </tr>\n",
              "    <tr>\n",
              "      <th>4</th>\n",
              "      <td>3DIL</td>\n",
              "      <td>1</td>\n",
              "      <td>Crystal structure of the Thermotoga maritima l...</td>\n",
              "      <td>174</td>\n",
              "      <td>[LYS, 1PE, IPA]</td>\n",
              "    </tr>\n",
              "    <tr>\n",
              "      <th>...</th>\n",
              "      <td>...</td>\n",
              "      <td>...</td>\n",
              "      <td>...</td>\n",
              "      <td>...</td>\n",
              "      <td>...</td>\n",
              "    </tr>\n",
              "    <tr>\n",
              "      <th>82</th>\n",
              "      <td>4KQY</td>\n",
              "      <td>1</td>\n",
              "      <td>Bacillus subtilis yitJ S box/SAM-I riboswitch</td>\n",
              "      <td>119</td>\n",
              "      <td>[SAM]</td>\n",
              "    </tr>\n",
              "    <tr>\n",
              "      <th>83</th>\n",
              "      <td>4QK8</td>\n",
              "      <td>1</td>\n",
              "      <td>Thermoanaerobacter pseudethanolicus c-di-AMP r...</td>\n",
              "      <td>122</td>\n",
              "      <td>[2BA]</td>\n",
              "    </tr>\n",
              "    <tr>\n",
              "      <th>84</th>\n",
              "      <td>5V3I</td>\n",
              "      <td>1</td>\n",
              "      <td>Crystal structure of the VS ribozyme - wild-ty...</td>\n",
              "      <td>186</td>\n",
              "      <td>[None]</td>\n",
              "    </tr>\n",
              "    <tr>\n",
              "      <th>85</th>\n",
              "      <td>4P8Z</td>\n",
              "      <td>1</td>\n",
              "      <td>Speciation of a group I intron into a lariat c...</td>\n",
              "      <td>188</td>\n",
              "      <td>[None]</td>\n",
              "    </tr>\n",
              "    <tr>\n",
              "      <th>86</th>\n",
              "      <td>1GID</td>\n",
              "      <td>1</td>\n",
              "      <td>CRYSTAL STRUCTURE OF A GROUP I RIBOZYME DOMAIN...</td>\n",
              "      <td>158</td>\n",
              "      <td>[NCO]</td>\n",
              "    </tr>\n",
              "  </tbody>\n",
              "</table>\n",
              "<p>87 rows × 5 columns</p>\n",
              "</div>"
            ],
            "text/plain": [
              "   PDB ID Chain_ID  ... Length (bp)  Ligand (non-ion)\n",
              "0    7JNH        2  ...          86        [NCO, SPD]\n",
              "1    6PRV        1  ...          58             [Apo]\n",
              "2    4FEN        1  ...          67        [HPA, NCO]\n",
              "3    6TFF        1  ...          52         [BR, NAD]\n",
              "4    3DIL        1  ...         174   [LYS, 1PE, IPA]\n",
              "..    ...      ...  ...         ...               ...\n",
              "82   4KQY        1  ...         119             [SAM]\n",
              "83   4QK8        1  ...         122             [2BA]\n",
              "84   5V3I        1  ...         186            [None]\n",
              "85   4P8Z        1  ...         188            [None]\n",
              "86   1GID        1  ...         158             [NCO]\n",
              "\n",
              "[87 rows x 5 columns]"
            ]
          },
          "metadata": {
            "tags": []
          },
          "execution_count": 20
        }
      ]
    },
    {
      "cell_type": "markdown",
      "metadata": {
        "id": "wOjRQt4Oh41e"
      },
      "source": [
        "# Export dataframe to CSV"
      ]
    },
    {
      "cell_type": "code",
      "metadata": {
        "id": "CveWaL4Qh5I5",
        "colab": {
          "base_uri": "https://localhost:8080/",
          "height": 167
        },
        "outputId": "737610b3-17df-4966-e459-40d7c36a7ff3"
      },
      "source": [
        "df.to_excel('Benchmark_RNAs' + '_' + str(nt_min_cutoff) + '_to_' + str(nt_max_cutoff) + '_nts' + '.xlsx', index=False)"
      ],
      "execution_count": 1,
      "outputs": [
        {
          "output_type": "error",
          "ename": "NameError",
          "evalue": "ignored",
          "traceback": [
            "\u001b[0;31m---------------------------------------------------------------------------\u001b[0m",
            "\u001b[0;31mNameError\u001b[0m                                 Traceback (most recent call last)",
            "\u001b[0;32m<ipython-input-1-989e182441d8>\u001b[0m in \u001b[0;36m<module>\u001b[0;34m()\u001b[0m\n\u001b[0;32m----> 1\u001b[0;31m \u001b[0mdf\u001b[0m\u001b[0;34m.\u001b[0m\u001b[0mto_excel\u001b[0m\u001b[0;34m(\u001b[0m\u001b[0;34m'Benchmark_RNAs'\u001b[0m \u001b[0;34m+\u001b[0m \u001b[0;34m'_'\u001b[0m \u001b[0;34m+\u001b[0m \u001b[0mstr\u001b[0m\u001b[0;34m(\u001b[0m\u001b[0mnt_min_cutoff\u001b[0m\u001b[0;34m)\u001b[0m \u001b[0;34m+\u001b[0m \u001b[0;34m'_to_'\u001b[0m \u001b[0;34m+\u001b[0m \u001b[0mstr\u001b[0m\u001b[0;34m(\u001b[0m\u001b[0mnt_max_cutoff\u001b[0m\u001b[0;34m)\u001b[0m \u001b[0;34m+\u001b[0m \u001b[0;34m'_nts'\u001b[0m \u001b[0;34m+\u001b[0m \u001b[0;34m'.xlsx'\u001b[0m\u001b[0;34m,\u001b[0m \u001b[0mindex\u001b[0m\u001b[0;34m=\u001b[0m\u001b[0;32mFalse\u001b[0m\u001b[0;34m)\u001b[0m\u001b[0;34m\u001b[0m\u001b[0;34m\u001b[0m\u001b[0m\n\u001b[0m",
            "\u001b[0;31mNameError\u001b[0m: name 'df' is not defined"
          ]
        }
      ]
    },
    {
      "cell_type": "markdown",
      "metadata": {
        "id": "BwkkwcptK0Hv"
      },
      "source": [
        "**Helper function to determine list of ligands present in BGSU dataset:**"
      ]
    },
    {
      "cell_type": "code",
      "metadata": {
        "colab": {
          "base_uri": "https://localhost:8080/"
        },
        "id": "DHKDksWUy91X",
        "outputId": "597025f1-20f1-4ea1-c1b2-a93ab1f3d98f"
      },
      "source": [
        "list_of_nonpolymer_id = []\n",
        "list_of_nonpolymers = {}\n",
        "\n",
        "for pdb_id in matching_pdb_ids:\n",
        "  entry = get_pdb_entry(pdb_id) \n",
        "  list_of_nonpolymer_id = get_list_of_nonpolymer_id(entry)\n",
        "\n",
        "  for nonpolymer_id in list_of_nonpolymer_id:\n",
        "    comp_id = comp_id_from_pdb_and_nonpolymer_id(pdb_id, nonpolymer_id)\n",
        "    comp_name = comp_name_from_pdb_and_nonpolymer_id(pdb_id, nonpolymer_id)\n",
        "\n",
        "    if comp_id not in list_of_nonpolymers:\n",
        "        list_of_nonpolymers[comp_id] = comp_name\n",
        "\n",
        "# Print number of RNAs found\n",
        "print()\n",
        "print('Found ', len(list_of_nonpolymers), ' nonpolymers')\n",
        "print(list_of_nonpolymers)"
      ],
      "execution_count": null,
      "outputs": [
        {
          "output_type": "stream",
          "text": [
            "\n",
            "Found  24  nonpolymers\n",
            "{'LYS': 'LYSINE', 'K': 'POTASSIUM ION', 'NA': 'SODIUM ION', 'MG': 'MAGNESIUM ION', '1PE': 'PENTAETHYLENE GLYCOL', 'IPA': 'ISOPROPYL ALCOHOL', 'NCO': 'COBALT HEXAMMINE(III)', 'THF': '5-HYDROXYMETHYLENE-6-HYDROFOLIC ACID', 'SAM': 'S-ADENOSYLMETHIONINE', 'SR': 'STRONTIUM ION', 'GTP': \"GUANOSINE-5'-TRIPHOSPHATE\", 'BA': 'BARIUM ION', 'SO4': 'SULFATE ION', 'EPE': '4-(2-HYDROXYETHYL)-1-PIPERAZINE ETHANESULFONIC ACID', 'SPM': 'SPERMINE', 'MN': 'MANGANESE (II) ION', '2BA': \"(2R,3R,3aS,5R,7aR,9R,10R,10aS,12R,14aR)-2,9-bis(6-amino-9H-purin-9-yl)octahydro-2H,7H-difuro[3,2-d:3',2'-j][1,3,7,9,2,8]tetraoxadiphosphacyclododecine-3,5,10,12-tetrol 5,12-dioxide\", 'PRP': '1-O-pyrophosphono-5-O-phosphono-alpha-D-ribofuranose', 'IRI': 'IRIDIUM HEXAMMINE ION', 'CD': 'CADMIUM ION', 'ACT': 'ACETATE ION', 'G4P': \"GUANOSINE-5',3'-TETRAPHOSPHATE\", 'TL': 'THALLIUM (I) ION', 'MES': '2-(N-MORPHOLINO)-ETHANESULFONIC ACID'}\n"
          ],
          "name": "stdout"
        }
      ]
    },
    {
      "cell_type": "code",
      "metadata": {
        "id": "qtal4IDRuZm1"
      },
      "source": [
        ""
      ],
      "execution_count": null,
      "outputs": []
    },
    {
      "cell_type": "markdown",
      "metadata": {
        "id": "291a1H9bT2-_"
      },
      "source": [
        "**Manual Search to see if PDB ID matches criteria**"
      ]
    },
    {
      "cell_type": "code",
      "metadata": {
        "id": "X2TE0ilsMqb9"
      },
      "source": [
        "# Determine if a certain PDB ID passes all criteria.\n",
        "pdb_id = input('Please type the PDB ID you want to search: ')\n",
        "print()\n",
        "\n",
        "entry = get_pdb_entry(pdb_id)\n",
        "print('Contains RNA only: ', contains_rna_only(entry))\n",
        "print('Contains excluded words (tRNA): ', pdb_id_contains_excluded_words(pdb_id, excluded_words))\n",
        "\n",
        "list_of_chain_id = get_list_of_chain_id(entry)\n",
        "for chain_id in list_of_chain_id:\n",
        "  entity = get_pdb_entity(pdb_id, chain_id)\n",
        "  print('Chain', chain_id, 'contains desired nt range:', nt_min_cutoff < get_polymer_length(entity) < nt_max_cutoff, \"because it is\", get_polymer_length(entity), \"nt long\")\n",
        "  print(entry)"
      ],
      "execution_count": null,
      "outputs": []
    }
  ]
}